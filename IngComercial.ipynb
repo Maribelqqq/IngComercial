{
  "nbformat": 4,
  "nbformat_minor": 0,
  "metadata": {
    "colab": {
      "provenance": [],
      "authorship_tag": "ABX9TyNfahfjfl41OK6i4SJ84FzO",
      "include_colab_link": true
    },
    "kernelspec": {
      "name": "python3",
      "display_name": "Python 3"
    },
    "language_info": {
      "name": "python"
    }
  },
  "cells": [
    {
      "cell_type": "markdown",
      "metadata": {
        "id": "view-in-github",
        "colab_type": "text"
      },
      "source": [
        "<a href=\"https://colab.research.google.com/github/Maribelqqq/IngComercial/blob/main/IngComercial.ipynb\" target=\"_parent\"><img src=\"https://colab.research.google.com/assets/colab-badge.svg\" alt=\"Open In Colab\"/></a>"
      ]
    },
    {
      "cell_type": "code",
      "execution_count": null,
      "metadata": {
        "colab": {
          "base_uri": "https://localhost:8080/"
        },
        "id": "dwescv9sqMWq",
        "outputId": "e9241459-da48-4657-ada5-dfca21e0fe5a"
      },
      "outputs": [
        {
          "output_type": "stream",
          "name": "stdout",
          "text": [
            "Ingrese el primer numero: 5\n",
            "Ingrese el primer numero: 20\n",
            "El numero mayor es  5\n"
          ]
        }
      ],
      "source": [
        "#Vamos a encontrar el mayor de dos numeros\n",
        "\n",
        "numero1 = input(\"Ingrese el primer numero: \")\n",
        "numero2 = input(\"Ingrese el primer numero: \")\n",
        "\n",
        "if numero1 > numero2 :\n",
        "  print(\"El numero mayor es \", numero1 )\n",
        "else:\n",
        "  print(\"El numero mayor es\", numero2)\n"
      ]
    }
  ]
}